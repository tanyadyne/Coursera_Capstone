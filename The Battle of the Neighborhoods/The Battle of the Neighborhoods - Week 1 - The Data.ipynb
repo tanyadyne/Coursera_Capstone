{
 "cells": [
  {
   "cell_type": "markdown",
   "metadata": {},
   "source": [
    "# The Battle of the Neighborhoods - The Data (Week 1)"
   ]
  },
  {
   "cell_type": "markdown",
   "metadata": {},
   "source": [
    "### Data Acquisition\n",
    "\n",
    "The data for this project will be acquired from three sources (links to all three can be found at the end of this section). Firstly, the project will utilise a crime dataset which counts the number of crimes in each London borough, per month, (from May 2018 - April 2020), according to crime type. The dataset contains the following columns:\n",
    "\n",
    " - **MajorText**: The higher-level/general categorisation of the crime\n",
    " - **MinorText**: The lower-level/specific categorisation of the crime (within the MajorText category)\n",
    " - **LookUp_BoroughName**: The common name for the London borough\n",
    " - **Year and month (multiple columns)**: Monthly reported count of each crime type in given borough\n",
    "\n",
    "The second source of data will be scraped from a wikipedia page that contains the list of London boroughs. It contains the following columns:\n",
    "\n",
    " - **Borough**: The name of the London borough\n",
    " - **Inner**: Categorization of either an inner or outer London borough\n",
    " - **Status**: Categorization of a Royal, City, or other borough\n",
    " - **Local authority**: The local authority assigned to the borough\n",
    " - **Political control**: The political party that controls the borough\n",
    " - **Headquarters**: Location of the borough's headquarters\n",
    " - **Area (sq mi)**: Area of the borough in square miles\n",
    " - **Population (2013 est)**: The population of the borough recorded in 2013\n",
    " - **Coordinates**: The latitude and longitude of the borough\n",
    " - **Nr. in map**: The number assigned to each borough to represent visually on a map\n",
    "\n",
    "The third data source is the list of nieghborhoods in the borough of 'Richmond upon Thames' as found on wikipedia. The dataset will be manually created from scratch and will include the following columns:\n",
    "\n",
    " - **Neighborhood**: Name of the neighborhood in the borough\n",
    " - **Borough**: Name of the borough\n",
    " - **Latitude**: Latitude of the neighborhood\n",
    " - **Longitude**: Longitude of the neighborhood\n",
    "\n",
    "Links to the data sources:\n",
    "\n",
    " - [Crime data (source 1)](https://data.london.gov.uk/dataset/recorded_crime_summary)\n",
    " - [List of London boroughs (source 2)](https://en.wikipedia.org/wiki/List_of_London_boroughs)\n",
    " - [List of neighborhoods in Richmond upon Thames (source 3)](https://en.wikipedia.org/wiki/London_Borough_of_Richmond_upon_Thames#List_of_neighbourhoods)"
   ]
  },
  {
   "cell_type": "markdown",
   "metadata": {},
   "source": [
    "### Data Cleaning\n",
    "\n",
    "The data sources will each be prepared separately. For the first source, only the London crime data from the most recent period (April 2019 to April 2020) will be used. We will produce two dataframes here: one that shows both the major and minor crimes, as well as one that shows the total crimes for each borough:\n",
    "\n",
    "<img src='cap1.png'>\n",
    "<img src='cap2.png'>"
   ]
  },
  {
   "cell_type": "markdown",
   "metadata": {},
   "source": [
    "Next, we will use the Beautiful Soup package to scrape data on each London borough from a table in a wikipedia page. The initial table is quite cluttered as it includes columns we are not necessarily interested in (e.g. the political party in power) and it also contains tags and notes that we do not require. As such, we will drop the unnecesary columns and remove any unwanted extra text.\n",
    "\n",
    "<img src='cap3.png'>\n",
    "<img src='cap4.png'>"
   ]
  },
  {
   "cell_type": "markdown",
   "metadata": {},
   "source": [
    "Furthermore, because we are interested in the **crime rate**, a new column will be added to calculate this value by first dividing the number of reported crimes by the population, then multiplying the answer by 1,000. This will get us the **crime rate per 1,000 residents**.\n",
    "\n",
    "<img src='cap5.png'>"
   ]
  },
  {
   "cell_type": "markdown",
   "metadata": {},
   "source": [
    "Finally, the third data source (a wikipedia page containing a list of nieghborhoods in the borough of 'Richmond upon Thames') will be used alongside geopy to produce the following:\n",
    "\n",
    "<img src='cap6.png'>"
   ]
  },
  {
   "cell_type": "markdown",
   "metadata": {},
   "source": [
    "This resulting dataset will then be used with foursquare location data to explore the venues within each neighborhood."
   ]
  }
 ],
 "metadata": {
  "kernelspec": {
   "display_name": "Python 3",
   "language": "python",
   "name": "python3"
  },
  "language_info": {
   "codemirror_mode": {
    "name": "ipython",
    "version": 3
   },
   "file_extension": ".py",
   "mimetype": "text/x-python",
   "name": "python",
   "nbconvert_exporter": "python",
   "pygments_lexer": "ipython3",
   "version": "3.7.6"
  }
 },
 "nbformat": 4,
 "nbformat_minor": 4
}
