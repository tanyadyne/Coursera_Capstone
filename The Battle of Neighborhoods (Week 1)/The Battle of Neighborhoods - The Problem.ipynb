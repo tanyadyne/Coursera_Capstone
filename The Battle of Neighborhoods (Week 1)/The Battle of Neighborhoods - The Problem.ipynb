{
    "cells": [
        {
            "cell_type": "markdown",
            "metadata": {
                "collapsed": true
            },
            "source": "# The Battle of Neighborhoods - Wk1 - The Problem"
        },
        {
            "cell_type": "markdown",
            "metadata": {},
            "source": "### Introduction and Background of the Problem:"
        },
        {
            "cell_type": "markdown",
            "metadata": {},
            "source": "London is both the capital and the largest city of England. It is also a financial hub full of booming businesses as well as a popular tourist destination. Due to the competitive environment of the city, it is therefore also known to have a fairly high cost of living. Those choosing to relocate there, whether for work purposes or otherwise, are therefore encouraged to undertake extensive research on the various boroughs and neighborhoods which are available to them before settling permanently. As with any other decision, there are numerous factors that would need to be considered before coming to a final decision. One of these factors is the safety of the borough - which can be quantified by looking at the different crime rates. The goal of this project is to therefore provide insights into the 'environment' of each of the 32 boroughs of London with a particular focus on identifying the safest borough. Once the safest borough has been identified, I will then proceed to explore the different neighborhoods within that borough with regards to the 10 most common venues in each neighborhood."
        },
        {
            "cell_type": "markdown",
            "metadata": {},
            "source": "### Description of the Approach:"
        },
        {
            "cell_type": "markdown",
            "metadata": {},
            "source": "To achieve the goal I set out above, I will carry out the following plan:\n\n1) To begin with, I will need to collect data on the crime statistics of each London Borough. The dataset I will be using to accomplish this can be found at data.london.gov.uk and it includes the most recent crimes recorded from 2018 to 2020. More on this in the Data section.\n\n2) Having determined the safest borough from the analysis in step 1, I will proceed to characterize the neighborhoods within that particular borough. By that, I mean that I will explore the borough to identify the 10 most common venues in each neighborhood. This will be achieved using Foursquare location data. \n\n3) Finally, I will offer my opinion on the top 3 neighborhoods within that borough which will suit the needs of different sets of individuals (based on the 10 most common venues that can be found). "
        },
        {
            "cell_type": "markdown",
            "metadata": {},
            "source": "### Who is the target audience?"
        },
        {
            "cell_type": "markdown",
            "metadata": {},
            "source": "Those who might be interested in this project are expatriates (or British citizens in other cities) looking to relocate to London. It will be of particular interest to those that are families with young children, or otherwise vulnerable family members, who would greatly benefit from choosing the safest borough. From there, one can further tailor their research by selecting the neighborhood that offers venues which cater to their needs the most."
        }
    ],
    "metadata": {
        "kernelspec": {
            "display_name": "Python 3.6",
            "language": "python",
            "name": "python3"
        },
        "language_info": {
            "codemirror_mode": {
                "name": "ipython",
                "version": 3
            },
            "file_extension": ".py",
            "mimetype": "text/x-python",
            "name": "python",
            "nbconvert_exporter": "python",
            "pygments_lexer": "ipython3",
            "version": "3.6.9"
        }
    },
    "nbformat": 4,
    "nbformat_minor": 1
}